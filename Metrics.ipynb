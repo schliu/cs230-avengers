{
 "cells": [
  {
   "cell_type": "code",
   "execution_count": 17,
   "metadata": {},
   "outputs": [],
   "source": [
    "keyword_to_character = {\n",
    "    'Tom Hiddleston Loki': 'Loki',\n",
    "    'Jeremy Renner Hawkeye': 'Hawkeye',\n",
    "    'Scarlett Johansson Black Widow': 'Black Widow',\n",
    "    'Robert Downey Jr Iron Man': 'Iron Man',\n",
    "    'Chris Evans Captain America': 'Captain America',\n",
    "    'Mark Ruffalo Hulk': 'Hulk',\n",
    "    'Samuel L Jackson Nick Fury': 'Nick Fury',\n",
    "    'Chris Hemsworth Thor': 'Thor'  \n",
    "}"
   ]
  },
  {
   "cell_type": "code",
   "execution_count": 2,
   "metadata": {},
   "outputs": [],
   "source": [
    "def read_human_labels(filename):\n",
    "    with open(filename) as f:\n",
    "        frames_dict = {}\n",
    "        for line in f.readlines():\n",
    "            avenger, frames = line.strip().split(\",\", 1)\n",
    "            if avenger in [\"Avenger\", \"Avengers\"]:\n",
    "                continue\n",
    "            frames_dict[avenger] = [int(x) for x in frames.strip('\"').split(\",\")]\n",
    "        return frames_dict"
   ]
  },
  {
   "cell_type": "code",
   "execution_count": 7,
   "metadata": {},
   "outputs": [],
   "source": [
    "def read_output(filename):\n",
    "    with open(filename) as f:\n",
    "        frames = []\n",
    "        for line in f.readlines():\n",
    "            _, faces = line.split(\" \", 1)\n",
    "            faces = faces.strip().split(\",\")\n",
    "            if faces[0] == '':\n",
    "                frames.append([]) # empty frame\n",
    "            else:\n",
    "                frames.append(faces)\n",
    "        return frames"
   ]
  },
  {
   "cell_type": "code",
   "execution_count": 4,
   "metadata": {},
   "outputs": [],
   "source": [
    "# returns dictionary of screentime, total number of faces detected\n",
    "def get_metrics(frames):\n",
    "    screentime = {}\n",
    "    num_faces = 0\n",
    "    for frame in frames:\n",
    "        for face in frame:\n",
    "            num_faces += 1\n",
    "            if face in screentime.keys():\n",
    "                screentime[face] += 1\n",
    "            else:\n",
    "                screentime[face] = 1\n",
    "    return screentime, num_faces\n",
    "\n",
    "# count number of faces correctly identified"
   ]
  },
  {
   "cell_type": "code",
   "execution_count": 5,
   "metadata": {},
   "outputs": [],
   "source": [
    "def get_metrics_dict(frames_dict):\n",
    "    screentime = {}\n",
    "    num_faces = 0\n",
    "    for avenger in frames_dict.keys():\n",
    "        screentime[avenger] = len(frames_dict[avenger])\n",
    "        num_faces += len(frames_dict[avenger])\n",
    "    return screentime, num_faces"
   ]
  },
  {
   "cell_type": "code",
   "execution_count": 37,
   "metadata": {},
   "outputs": [],
   "source": [
    "def get_correct_faces(frames, truth):\n",
    "    num_correct_faces = 0\n",
    "    for frame, faces in enumerate(frames):\n",
    "        if len(faces) > 0:\n",
    "            for face in faces:\n",
    "                character_name = keyword_to_character[face]\n",
    "                if character_name in truth.keys() and frame in truth[character_name]:\n",
    "                    num_correct_faces += 1\n",
    "    return num_correct_faces    "
   ]
  },
  {
   "cell_type": "code",
   "execution_count": 47,
   "metadata": {},
   "outputs": [],
   "source": [
    "frames_avengers2012 = read_output('output/avengers2012.txt')\n",
    "frames_ageofultron = read_output('output/ageofultron.txt')"
   ]
  },
  {
   "cell_type": "code",
   "execution_count": 40,
   "metadata": {},
   "outputs": [
    {
     "name": "stdout",
     "output_type": "stream",
     "text": [
      "{'Tom Hiddleston Loki': 4, 'Jeremy Renner Hawkeye': 3, 'Scarlett Johansson Black Widow': 3, 'Robert Downey Jr Iron Man': 11, 'Chris Evans Captain America': 6, 'Chris Hemsworth Thor': 3, 'Mark Ruffalo Hulk': 2}\n",
      "32\n",
      "{'Random Woman': [14], 'Loki': [26, 57], 'Nick Fury': [38, 68, 73], 'Hawkeye': [55, 85], 'Black Widow': [56, 75, 87], 'Iron Man': [59, 74, 78, 79, 98, 112, 113, 114, 115, 116], 'Iron Man Mask': [60, 61, 62, 67], 'Thor': [65, 66, 73, 75, 80, 88, 95], 'Captain America': [67, 73, 76, 77, 90, 95], 'Hulk': [119]}\n",
      "{'Random Woman': 1, 'Loki': 2, 'Nick Fury': 3, 'Hawkeye': 2, 'Black Widow': 3, 'Iron Man': 10, 'Iron Man Mask': 4, 'Thor': 7, 'Captain America': 6, 'Hulk': 1}\n",
      "39\n",
      "METRICS\n",
      "Percent of faces detected: 0.8205128205128205\n",
      "Percent of faces correctly labeled: 0.8125\n"
     ]
    }
   ],
   "source": [
    "frames_avengers2012 = read_output('output/avengers2012.txt')\n",
    "screentime, num_faces = get_metrics(frames_avengers2012)\n",
    "print(screentime)\n",
    "print(num_faces)\n",
    "\n",
    "truth_avengers2012 = read_human_labels('downloads/ground_truth/avengers2012.csv')\n",
    "print(truth_avengers2012)\n",
    "true_screentime, true_num_faces = get_metrics_dict(truth_avengers2012)\n",
    "print(true_screentime)\n",
    "print(true_num_faces)\n",
    "\n",
    "num_correct_faces = get_correct_faces(frames_avengers2012, truth_avengers2012)\n",
    "\n",
    "print(\"METRICS\")\n",
    "print(\"Percent of faces detected: \" + str(float(num_faces) / true_num_faces))\n",
    "print(\"Percent of faces correctly labeled: \" + str(float(num_correct_faces) / num_faces))"
   ]
  },
  {
   "cell_type": "code",
   "execution_count": 38,
   "metadata": {},
   "outputs": [
    {
     "name": "stdout",
     "output_type": "stream",
     "text": [
      "{'Chris Evans Captain America': 3, 'Scarlett Johansson Black Widow': 7, 'Mark Ruffalo Hulk': 6, 'Jeremy Renner Hawkeye': 3, 'Chris Hemsworth Thor': 3, 'Tom Hiddleston Loki': 3, 'Robert Downey Jr Iron Man': 4, 'Samuel L Jackson Nick Fury': 1}\n",
      "30\n",
      "{'Non-Avenger': [18], 'Hawkeye': [26, 69, 100], 'Hulk': [29, 32, 35], 'Hulk Green': [83, 109], 'Thor': [35, 69], 'Captain America': [35, 52, 69], 'War Machine': [35], 'Iron Man': [36, 75, 101], 'Iron Man Mask': [110, 111], 'Quicksilver': [65], 'Scarlet Witch': [65, 81, 91, 108], 'Nick Fury': [77], 'Black Widow': [69, 78, 89, 96, 102], 'Villain': [94]}\n",
      "{'Non-Avenger': 1, 'Hawkeye': 3, 'Hulk': 3, 'Hulk Green': 2, 'Thor': 2, 'Captain America': 3, 'War Machine': 1, 'Iron Man': 3, 'Iron Man Mask': 2, 'Quicksilver': 1, 'Scarlet Witch': 4, 'Nick Fury': 1, 'Black Widow': 5, 'Villain': 1}\n",
      "32\n",
      "METRICS\n",
      "Percent of faces detected: 0.9375\n",
      "Percent of faces correctly labeled: 0.43333333333333335\n"
     ]
    }
   ],
   "source": [
    "frames_ageofultron = read_output('output/ageofultron.txt')\n",
    "screentime, num_faces = get_metrics(frames_ageofultron)\n",
    "print(screentime)\n",
    "print(num_faces)\n",
    "\n",
    "truth_ageofultron = read_human_labels('downloads/ground_truth/ageofultron.txt')\n",
    "print(truth_ageofultron)\n",
    "true_screentime, true_num_faces = get_metrics_dict(truth_ageofultron)\n",
    "print(true_screentime)\n",
    "print(true_num_faces)\n",
    "\n",
    "num_correct_faces = get_correct_faces(frames_ageofultron, truth_ageofultron)\n",
    "\n",
    "print(\"METRICS\")\n",
    "print(\"Percent of faces detected: \" + str(float(num_faces) / true_num_faces))\n",
    "print(\"Percent of faces correctly labeled: \" + str(float(num_correct_faces) / num_faces))"
   ]
  },
  {
   "cell_type": "code",
   "execution_count": null,
   "metadata": {},
   "outputs": [],
   "source": []
  },
  {
   "cell_type": "code",
   "execution_count": null,
   "metadata": {},
   "outputs": [],
   "source": []
  }
 ],
 "metadata": {
  "kernelspec": {
   "display_name": "Python 3",
   "language": "python",
   "name": "python3"
  },
  "language_info": {
   "codemirror_mode": {
    "name": "ipython",
    "version": 3
   },
   "file_extension": ".py",
   "mimetype": "text/x-python",
   "name": "python",
   "nbconvert_exporter": "python",
   "pygments_lexer": "ipython3",
   "version": "3.7.1"
  }
 },
 "nbformat": 4,
 "nbformat_minor": 2
}
