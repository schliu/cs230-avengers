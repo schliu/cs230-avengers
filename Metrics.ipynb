{
 "cells": [
  {
   "cell_type": "code",
   "execution_count": 43,
   "metadata": {},
   "outputs": [
    {
     "name": "stdout",
     "output_type": "stream",
     "text": [
      "{'Non-Avenger': [18], 'Hawkeye': [26, 69, 100], 'Hulk': [29, 32, 35], 'Hulk Green': [83, 109], 'Thor': [35, 69], 'Captain America': [35, 52, 69], 'War Machine': [35], 'Iron Man': [36, 75, 101], 'Iron Man Mask': [110, 111], 'Quicksilver': [65], 'Scarlet Witch': [65, 81, 91, 108], 'Nick Fury': [77], 'Black Widow': [69, 78, 89, 96, 102], 'Villain': [94]}\n"
     ]
    }
   ],
   "source": [
    "def read_human_labels(filename):\n",
    "    with open(filename) as f:\n",
    "        frames_dict = {}\n",
    "        for line in f.readlines():\n",
    "            avenger, frames = line.strip().split(\",\", 1)\n",
    "            if avenger in [\"Avenger\", \"Avengers\"]:\n",
    "                continue\n",
    "            frames_dict[avenger] = [int(x) for x in frames.strip('\"').split(\",\")]\n",
    "        return frames_dict"
   ]
  },
  {
   "cell_type": "code",
   "execution_count": 15,
   "metadata": {},
   "outputs": [],
   "source": [
    "def read_output(filename):\n",
    "    with open(filename) as f:\n",
    "        frames = []\n",
    "        for line in f.readlines():\n",
    "            _, faces = line.split(\" \", 1)\n",
    "            faces = faces.strip().split(\",\")\n",
    "            if faces[0] == '':\n",
    "                frames.append([]) # empty frame\n",
    "            else:\n",
    "                frames.append(chars)\n",
    "        return frames"
   ]
  },
  {
   "cell_type": "code",
   "execution_count": 25,
   "metadata": {},
   "outputs": [],
   "source": [
    "# returns dictionary of screentime, total number of faces detected\n",
    "def get_metrics(frames):\n",
    "    screentime = {}\n",
    "    num_faces = 0\n",
    "    for frame in frames:\n",
    "        for face in frame:\n",
    "            num_faces += 1\n",
    "            if face in screentime.keys():\n",
    "                screentime[face] += 1\n",
    "            else:\n",
    "                screentime[face] = 1\n",
    "    return screentime, num_faces\n",
    "\n",
    "# count number of faces correctly identified"
   ]
  },
  {
   "cell_type": "code",
   "execution_count": 53,
   "metadata": {},
   "outputs": [],
   "source": [
    "def get_metrics_dict(frames_dict):\n",
    "    screentime = {}\n",
    "    num_faces = 0\n",
    "    for avenger in frames_dict.keys():\n",
    "        screentime[avenger] = len(frames_dict[avenger])\n",
    "        num_faces += len(frames_dict[avenger])\n",
    "    return screentime, num_faces"
   ]
  },
  {
   "cell_type": "code",
   "execution_count": 47,
   "metadata": {},
   "outputs": [],
   "source": [
    "frames_avengers2012 = read_output('output/avengers2012.txt')\n",
    "frames_ageofultron = read_output('output/ageofultron.txt')"
   ]
  },
  {
   "cell_type": "code",
   "execution_count": 27,
   "metadata": {},
   "outputs": [
    {
     "name": "stdout",
     "output_type": "stream",
     "text": [
      "{'Tom Hiddleston Loki': 4, 'Jeremy Renner Hawkeye': 3, 'Scarlett Johansson Black Widow': 3, 'Robert Downey Jr Iron Man': 11, 'Chris Evans Captain America': 6, 'Chris Hemsworth Thor': 3, 'Mark Ruffalo Hulk': 2}\n",
      "32\n"
     ]
    }
   ],
   "source": [
    "screentime, num_faces = get_metrics(frames_avengers2012)\n",
    "\n",
    "print(screentime)\n",
    "print(num_faces)"
   ]
  },
  {
   "cell_type": "code",
   "execution_count": 28,
   "metadata": {},
   "outputs": [
    {
     "name": "stdout",
     "output_type": "stream",
     "text": [
      "{'Chris Evans Captain America': 3, 'Scarlett Johansson Black Widow': 7, 'Mark Ruffalo Hulk': 6, 'Jeremy Renner Hawkeye': 3, 'Chris Hemsworth Thor': 3, 'Tom Hiddleston Loki': 3, 'Robert Downey Jr Iron Man': 4, 'Samuel L Jackson Nick Fury': 1}\n",
      "30\n"
     ]
    }
   ],
   "source": [
    "screentime, num_faces = get_metrics(frames_ageofultron)\n",
    "\n",
    "print(screentime)\n",
    "print(num_faces)"
   ]
  },
  {
   "cell_type": "code",
   "execution_count": 54,
   "metadata": {},
   "outputs": [
    {
     "name": "stdout",
     "output_type": "stream",
     "text": [
      "{'Non-Avenger': [18], 'Hawkeye': [26, 69, 100], 'Hulk': [29, 32, 35], 'Hulk Green': [83, 109], 'Thor': [35, 69], 'Captain America': [35, 52, 69], 'War Machine': [35], 'Iron Man': [36, 75, 101], 'Iron Man Mask': [110, 111], 'Quicksilver': [65], 'Scarlet Witch': [65, 81, 91, 108], 'Nick Fury': [77], 'Black Widow': [69, 78, 89, 96, 102], 'Villain': [94]}\n",
      "{'Non-Avenger': 1, 'Hawkeye': 3, 'Hulk': 3, 'Hulk Green': 2, 'Thor': 2, 'Captain America': 3, 'War Machine': 1, 'Iron Man': 3, 'Iron Man Mask': 2, 'Quicksilver': 1, 'Scarlet Witch': 4, 'Nick Fury': 1, 'Black Widow': 5, 'Villain': 1}\n",
      "32\n"
     ]
    }
   ],
   "source": [
    "truth_ageofultron = read_human_labels('downloads/ground_truth/ageofultron.txt')\n",
    "print(truth_ageofultron)\n",
    "screentime, num_faces = get_metrics_dict(truth_ageofultron)\n",
    "print(screentime)\n",
    "print(num_faces)"
   ]
  },
  {
   "cell_type": "code",
   "execution_count": null,
   "metadata": {},
   "outputs": [],
   "source": []
  }
 ],
 "metadata": {
  "kernelspec": {
   "display_name": "Python 3",
   "language": "python",
   "name": "python3"
  },
  "language_info": {
   "codemirror_mode": {
    "name": "ipython",
    "version": 3
   },
   "file_extension": ".py",
   "mimetype": "text/x-python",
   "name": "python",
   "nbconvert_exporter": "python",
   "pygments_lexer": "ipython3",
   "version": "3.7.1"
  }
 },
 "nbformat": 4,
 "nbformat_minor": 2
}
